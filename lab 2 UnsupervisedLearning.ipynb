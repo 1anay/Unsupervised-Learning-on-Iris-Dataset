{
 "cells": [
  {
   "cell_type": "code",
   "execution_count": 23,
   "metadata": {},
   "outputs": [
    {
     "data": {
      "text/plain": [
       "[(1, 20),\n",
       " (5, 11),\n",
       " (3, 17),\n",
       " (8, 15),\n",
       " (6, 14),\n",
       " (7, 13),\n",
       " (2, 12),\n",
       " (8, 18),\n",
       " (2, 19),\n",
       " (1, 13)]"
      ]
     },
     "execution_count": 23,
     "metadata": {},
     "output_type": "execute_result"
    }
   ],
   "source": [
    "x = [1,5,3,8,6,7,2,8,2,1]\n",
    "y = [20,11,17,15,14,13,12,18,19,13]\n",
    "data=list(zip(x,y))\n",
    "data"
   ]
  },
  {
   "cell_type": "code",
   "execution_count": 24,
   "metadata": {},
   "outputs": [
    {
     "data": {
      "text/plain": [
       "KMeans(algorithm='auto', copy_x=True, init='k-means++', max_iter=300,\n",
       "    n_clusters=2, n_init=10, n_jobs=None, precompute_distances='auto',\n",
       "    random_state=None, tol=0.0001, verbose=0)"
      ]
     },
     "execution_count": 24,
     "metadata": {},
     "output_type": "execute_result"
    }
   ],
   "source": [
    "from sklearn.cluster import KMeans\n",
    "model = KMeans(n_clusters = 2)\n",
    "model.fit(data)"
   ]
  },
  {
   "cell_type": "code",
   "execution_count": 25,
   "metadata": {},
   "outputs": [
    {
     "data": {
      "text/plain": [
       "<function matplotlib.pyplot.show(*args, **kw)>"
      ]
     },
     "execution_count": 25,
     "metadata": {},
     "output_type": "execute_result"
    },
    {
     "data": {
      "image/png": "[encoded data removed]",
      "text/plain": [
       "<Figure size 432x288 with 1 Axes>"
      ]
     },
     "metadata": {
      "needs_background": "light"
     },
     "output_type": "display_data"
    }
   ],
   "source": [
    "import matplotlib.pyplot as plt \n",
    "plt.scatter(x,y,c=model.labels_)\n",
    "plt.show"
   ]
  },
  {
   "cell_type": "code",
   "execution_count": 26,
   "metadata": {},
   "outputs": [
    {
     "data": {
      "text/html": [
       "<div>\n",
       "<style scoped>\n",
       "    .dataframe tbody tr th:only-of-type {\n",
       "        vertical-align: middle;\n",
       "    }\n",
       "\n",
       "    .dataframe tbody tr th {\n",
       "        vertical-align: top;\n",
       "    }\n",
       "\n",
       "    .dataframe thead th {\n",
       "        text-align: right;\n",
       "    }\n",
       "</style>\n",
       "<table border=\"1\" class=\"dataframe\">\n",
       "  <thead>\n",
       "    <tr style=\"text-align: right;\">\n",
       "      <th></th>\n",
       "      <th>sepal_length</th>\n",
       "      <th>sepal_width</th>\n",
       "      <th>petal_length</th>\n",
       "      <th>petal_width</th>\n",
       "      <th>species</th>\n",
       "    </tr>\n",
       "  </thead>\n",
       "  <tbody>\n",
       "    <tr>\n",
       "      <th>0</th>\n",
       "      <td>5.1</td>\n",
       "      <td>3.5</td>\n",
       "      <td>1.4</td>\n",
       "      <td>0.2</td>\n",
       "      <td>setosa</td>\n",
       "    </tr>\n",
       "    <tr>\n",
       "      <th>1</th>\n",
       "      <td>4.9</td>\n",
       "      <td>3.0</td>\n",
       "      <td>1.4</td>\n",
       "      <td>0.2</td>\n",
       "      <td>setosa</td>\n",
       "    </tr>\n",
       "    <tr>\n",
       "      <th>2</th>\n",
       "      <td>4.7</td>\n",
       "      <td>3.2</td>\n",
       "      <td>1.3</td>\n",
       "      <td>0.2</td>\n",
       "      <td>setosa</td>\n",
       "    </tr>\n",
       "    <tr>\n",
       "      <th>3</th>\n",
       "      <td>4.6</td>\n",
       "      <td>3.1</td>\n",
       "      <td>1.5</td>\n",
       "      <td>0.2</td>\n",
       "      <td>setosa</td>\n",
       "    </tr>\n",
       "    <tr>\n",
       "      <th>4</th>\n",
       "      <td>5.0</td>\n",
       "      <td>3.6</td>\n",
       "      <td>1.4</td>\n",
       "      <td>0.2</td>\n",
       "      <td>setosa</td>\n",
       "    </tr>\n",
       "  </tbody>\n",
       "</table>\n",
       "</div>"
      ],
      "text/plain": [
       "   sepal_length  sepal_width  petal_length  petal_width species\n",
       "0           5.1          3.5           1.4          0.2  setosa\n",
       "1           4.9          3.0           1.4          0.2  setosa\n",
       "2           4.7          3.2           1.3          0.2  setosa\n",
       "3           4.6          3.1           1.5          0.2  setosa\n",
       "4           5.0          3.6           1.4          0.2  setosa"
      ]
     },
     "execution_count": 26,
     "metadata": {},
     "output_type": "execute_result"
    }
   ],
   "source": [
    "import pandas as pd\n",
    "import numpy as np\n",
    "df =pd.read_csv(\"E:/iris.csv\")\n",
    "df.head()"
   ]
  },
  {
   "cell_type": "code",
   "execution_count": 27,
   "metadata": {},
   "outputs": [
    {
     "data": {
      "text/plain": [
       "[(3.5, 5.1),\n",
       " (3.0, 4.9),\n",
       " (3.2, 4.7),\n",
       " (3.1, 4.6),\n",
       " (3.6, 5.0),\n",
       " (3.9, 5.4),\n",
       " (3.4, 4.6),\n",
       " (3.4, 5.0),\n",
       " (2.9, 4.4),\n",
       " (3.1, 4.9),\n",
       " (3.7, 5.4),\n",
       " (3.4, 4.8),\n",
       " (3.0, 4.8),\n",
       " (3.0, 4.3),\n",
       " (4.0, 5.8),\n",
       " (4.4, 5.7),\n",
       " (3.9, 5.4),\n",
       " (3.5, 5.1),\n",
       " (3.8, 5.7),\n",
       " (3.8, 5.1),\n",
       " (3.4, 5.4),\n",
       " (3.7, 5.1),\n",
       " (3.6, 4.6),\n",
       " (3.3, 5.1),\n",
       " (3.4, 4.8),\n",
       " (3.0, 5.0),\n",
       " (3.4, 5.0),\n",
       " (3.5, 5.2),\n",
       " (3.4, 5.2),\n",
       " (3.2, 4.7),\n",
       " (3.1, 4.8),\n",
       " (3.4, 5.4),\n",
       " (4.1, 5.2),\n",
       " (4.2, 5.5),\n",
       " (3.1, 4.9),\n",
       " (3.2, 5.0),\n",
       " (3.5, 5.5),\n",
       " (3.1, 4.9),\n",
       " (3.0, 4.4),\n",
       " (3.4, 5.1),\n",
       " (3.5, 5.0),\n",
       " (2.3, 4.5),\n",
       " (3.2, 4.4),\n",
       " (3.5, 5.0),\n",
       " (3.8, 5.1),\n",
       " (3.0, 4.8),\n",
       " (3.8, 5.1),\n",
       " (3.2, 4.6),\n",
       " (3.7, 5.3),\n",
       " (3.3, 5.0),\n",
       " (3.2, 7.0),\n",
       " (3.2, 6.4),\n",
       " (3.1, 6.9),\n",
       " (2.3, 5.5),\n",
       " (2.8, 6.5),\n",
       " (2.8, 5.7),\n",
       " (3.3, 6.3),\n",
       " (2.4, 4.9),\n",
       " (2.9, 6.6),\n",
       " (2.7, 5.2),\n",
       " (2.0, 5.0),\n",
       " (3.0, 5.9),\n",
       " (2.2, 6.0),\n",
       " (2.9, 6.1),\n",
       " (2.9, 5.6),\n",
       " (3.1, 6.7),\n",
       " (3.0, 5.6),\n",
       " (2.7, 5.8),\n",
       " (2.2, 6.2),\n",
       " (2.5, 5.6),\n",
       " (3.2, 5.9),\n",
       " (2.8, 6.1),\n",
       " (2.5, 6.3),\n",
       " (2.8, 6.1),\n",
       " (2.9, 6.4),\n",
       " (3.0, 6.6),\n",
       " (2.8, 6.8),\n",
       " (3.0, 6.7),\n",
       " (2.9, 6.0),\n",
       " (2.6, 5.7),\n",
       " (2.4, 5.5),\n",
       " (2.4, 5.5),\n",
       " (2.7, 5.8),\n",
       " (2.7, 6.0),\n",
       " (3.0, 5.4),\n",
       " (3.4, 6.0),\n",
       " (3.1, 6.7),\n",
       " (2.3, 6.3),\n",
       " (3.0, 5.6),\n",
       " (2.5, 5.5),\n",
       " (2.6, 5.5),\n",
       " (3.0, 6.1),\n",
       " (2.6, 5.8),\n",
       " (2.3, 5.0),\n",
       " (2.7, 5.6),\n",
       " (3.0, 5.7),\n",
       " (2.9, 5.7),\n",
       " (2.9, 6.2),\n",
       " (2.5, 5.1),\n",
       " (2.8, 5.7),\n",
       " (3.3, 6.3),\n",
       " (2.7, 5.8),\n",
       " (3.0, 7.1),\n",
       " (2.9, 6.3),\n",
       " (3.0, 6.5),\n",
       " (3.0, 7.6),\n",
       " (2.5, 4.9),\n",
       " (2.9, 7.3),\n",
       " (2.5, 6.7),\n",
       " (3.6, 7.2),\n",
       " (3.2, 6.5),\n",
       " (2.7, 6.4),\n",
       " (3.0, 6.8),\n",
       " (2.5, 5.7),\n",
       " (2.8, 5.8),\n",
       " (3.2, 6.4),\n",
       " (3.0, 6.5),\n",
       " (3.8, 7.7),\n",
       " (2.6, 7.7),\n",
       " (2.2, 6.0),\n",
       " (3.2, 6.9),\n",
       " (2.8, 5.6),\n",
       " (2.8, 7.7),\n",
       " (2.7, 6.3),\n",
       " (3.3, 6.7),\n",
       " (3.2, 7.2),\n",
       " (2.8, 6.2),\n",
       " (3.0, 6.1),\n",
       " (2.8, 6.4),\n",
       " (3.0, 7.2),\n",
       " (2.8, 7.4),\n",
       " (3.8, 7.9),\n",
       " (2.8, 6.4),\n",
       " (2.8, 6.3),\n",
       " (2.6, 6.1),\n",
       " (3.0, 7.7),\n",
       " (3.4, 6.3),\n",
       " (3.1, 6.4),\n",
       " (3.0, 6.0),\n",
       " (3.1, 6.9),\n",
       " (3.1, 6.7),\n",
       " (3.1, 6.9),\n",
       " (2.7, 5.8),\n",
       " (3.2, 6.8),\n",
       " (3.3, 6.7),\n",
       " (3.0, 6.7),\n",
       " (2.5, 6.3),\n",
       " (3.0, 6.5),\n",
       " (3.4, 6.2),\n",
       " (3.0, 5.9)]"
      ]
     },
     "execution_count": 27,
     "metadata": {},
     "output_type": "execute_result"
    }
   ],
   "source": [
    "df=df.dropna()\n",
    "y= df[\"sepal_length\"]\n",
    "x= df[\"sepal_width\"]\n",
    "data=list(zip(x,y))\n",
    "data"
   ]
  },
  {
   "cell_type": "code",
   "execution_count": 28,
   "metadata": {},
   "outputs": [
    {
     "data": {
      "text/plain": [
       "KMeans(algorithm='auto', copy_x=True, init='k-means++', max_iter=300,\n",
       "    n_clusters=4, n_init=10, n_jobs=None, precompute_distances='auto',\n",
       "    random_state=None, tol=0.0001, verbose=0)"
      ]
     },
     "execution_count": 28,
     "metadata": {},
     "output_type": "execute_result"
    }
   ],
   "source": [
    "new_model = KMeans(n_clusters = 4)\n",
    "new_model.fit(data)"
   ]
  },
  {
   "cell_type": "code",
   "execution_count": 29,
   "metadata": {},
   "outputs": [
    {
     "data": {
      "text/plain": [
       "<function matplotlib.pyplot.show(*args, **kw)>"
      ]
     },
     "execution_count": 29,
     "metadata": {},
     "output_type": "execute_result"
    },
    {
     "data": {
      "image/png": "[encoded data removed]",
      "text/plain": [
       "<Figure size 432x288 with 1 Axes>"
      ]
     },
     "metadata": {
      "needs_background": "light"
     },
     "output_type": "display_data"
    }
   ],
   "source": [
    "plt.scatter(x,y,c=new_model.labels_)\n",
    "plt.show"
   ]
  }
 ],
 "metadata": {
  "kernelspec": {
   "display_name": "Python 3",
   "language": "python",
   "name": "python3"
  },
  "language_info": {
   "codemirror_mode": {
    "name": "ipython",
    "version": 3
   },
   "file_extension": ".py",
   "mimetype": "text/x-python",
   "name": "python",
   "nbconvert_exporter": "python",
   "pygments_lexer": "ipython3",
   "version": "3.7.3"
  }
 },
 "nbformat": 4,
 "nbformat_minor": 2
}
